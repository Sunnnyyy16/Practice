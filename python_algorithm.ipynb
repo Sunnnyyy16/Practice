{
 "cells": [
  {
   "cell_type": "markdown",
   "metadata": {},
   "source": [
    "## k번째수\n",
    "#### 문제 설명\n",
    "배열 array의 i번째 숫자부터 j번째 숫자까지 자르고 정렬했을 때, k번째에 있는 수를 구하려 한다. \n",
    "\n",
    "예를 들어 array가 [1,5,2,6,3,7,4], i=2,j=5,k=3이라면\n",
    "\n",
    "1. arrary의 2번째부터 5번째까지 자르면 [5,2,6,3]이다\n",
    "2. 1에서 나온 배열을 정렬하면 [2,3,5,6]이다\n",
    "3. 2에서 나온 배열의 3번째 숫자는 5이다. \n",
    "\n",
    "배열 array, [i,j,k]를 원소로 가진 2차원 배열 commands가 매개변수로 주어질 때, commands의 모든 원소에 대해 앞서 설명한 연산을 적용했을 때 나온 결과를 배열에 담아 return 하도록 solution 함수를 작성해라. \n",
    "\n",
    "\n",
    "#### 제한사항\n",
    "* array의 길이는 1이상 100이하\n",
    "* array의 각 원소는 1이상 100이하\n",
    "* commands의 길이는 1이상 50 이하\n",
    "* commands의 각 원소는 길이가 3\n",
    "\n",
    "\n",
    "#### 입출력 예\n",
    "    array=[1,5,2,6,3,7,4] \n",
    "    commands=[[2,5,3],[4,4,1],[5,6,3]]\n",
    "    return=[5,6,3]"
   ]
  },
  {
   "cell_type": "code",
   "execution_count": 32,
   "metadata": {},
   "outputs": [
    {
     "data": {
      "text/plain": [
       "[5, 6, 3]"
      ]
     },
     "execution_count": 32,
     "metadata": {},
     "output_type": "execute_result"
    }
   ],
   "source": [
    "# k 번째 수 함수\n",
    "def solution(array, commands):\n",
    "    answer=[]\n",
    "    for com in commands:\n",
    "        i,j,k = com[0], com[1], com[2]\n",
    "        temp=array[i-1:j]\n",
    "        sort_temp=sorted(temp)\n",
    "        temp_answer = sort_temp[k-1]\n",
    "        answer.append(temp_answer)\n",
    "    return answer\n",
    "\n",
    "# 실행결과\n",
    "solution([1,5,2,6,3,7,4],[[2,5,3],[4,4,1],[1,7,3]])"
   ]
  },
  {
   "cell_type": "code",
   "execution_count": 2,
   "metadata": {},
   "outputs": [
    {
     "name": "stdout",
     "output_type": "stream",
     "text": [
      "472\n",
      "385\n",
      "2360\n",
      "3776\n",
      "1416\n",
      "181720\n"
     ]
    }
   ],
   "source": [
    "a= int(input())\n",
    "b=input()\n",
    "print(a*int(b[2]))\n",
    "print(a*int(b[1]))\n",
    "print(a*int(b[0]))\n",
    "print(a*int(b))"
   ]
  },
  {
   "cell_type": "markdown",
   "metadata": {},
   "source": [
    "## R2\n",
    "#### 문제\n",
    "두 숫자 R1과 R2가 있을 때, 두 수의 평균 S는 (R1+R2)/2와 같다. 상근이는 정인이 생일 선물로 두 숫자 R1과 R2를 주려고 한다. 생일 파티에서 상근이는 정인이에게 이 두 숫자를 말해주고, 정인이는 이 숫자를 받아 적는다. 그리고 나서 기쁜 마음으로 1년동안 이 숫자를 외우면서 산다.\n",
    "\n",
    "상근이는 R1과 R2를 엄청난 고민 끝에 정했다. 작년에는 R1과 R2를 까먹어서 아무 숫자나 정해서 주었기 때문에, 올해는 까먹지 않기 위해서 평균 S도 같이 기억하려고 한다.\n",
    "\n",
    "오늘은 정인이 생일이다. 5분 후에 상근이는 생일 선물로 두 숫자 R1과 R2를 말해주어야 하지만, 안타깝게도 R2를 까먹고 말았다. 하지만 R1과 S는 기억하고 있다!\n",
    "\n",
    "상근이를 도와 R2가 몇 인지 구하는 프로그램을 작성하시오."
   ]
  },
  {
   "cell_type": "code",
   "execution_count": 4,
   "metadata": {},
   "outputs": [
    {
     "name": "stdout",
     "output_type": "stream",
     "text": [
      "11 15\n",
      "19\n"
     ]
    }
   ],
   "source": [
    "R1, S= map(int, input().split())\n",
    "print(2*S-R1)"
   ]
  },
  {
   "cell_type": "markdown",
   "metadata": {},
   "source": [
    "## 초콜릿 자르기\n",
    "#### 문제\n",
    "정화는 N×M 크기의 초콜릿을 하나 가지고 있다. 초콜릿은 금이 가 있는 모양을 하고 있으며, 그 금에 의해 N×M개의 조각으로 나눠질 수 있다.\n",
    "\n",
    "초콜릿의 크기가 너무 크다고 생각한 그녀는 초콜릿을 친구들과 나눠 먹기로 했다. 이를 위해서 정화는 초콜릿을 계속 쪼개서 총 N×M개의 조각으로 쪼개려고 한다. 초콜릿을 쪼갤 때에는 초콜릿 조각을 하나 들고, 적당한 위치에서 초콜릿을 쪼갠다. 초콜릿을 쪼갤 때에는 금이 가 있는 위치에서만 쪼갤 수 있다. 이와 같이 초콜릿을 쪼개면 초콜릿은 두 개의 조각으로 나눠지게 된다. 이제 다시 이 중에서 초콜릿 조각을 하나 들고, 쪼개는 과정을 반복하면 된다.\n",
    "\n",
    "초콜릿을 쪼개다보면 초콜릿이 녹을 수 있기 때문에, 정화는 가급적이면 초콜릿을 쪼개는 횟수를 최소로 하려 한다. 초콜릿의 크기가 주어졌을 때, 이를 1×1 크기의 초콜릿으로 쪼개기 위한 최소 쪼개기 횟수를 구하는 프로그램을 작성하시오."
   ]
  },
  {
   "cell_type": "code",
   "execution_count": 13,
   "metadata": {},
   "outputs": [
    {
     "name": "stdout",
     "output_type": "stream",
     "text": [
      "3 3\n",
      "8\n"
     ]
    }
   ],
   "source": [
    "N,M= map(int, input().split())\n",
    "\n",
    "# Split N-1 times. Then with N pieces, split M-1 times again. \n",
    "print((N-1)+(M-1)*N)"
   ]
  },
  {
   "cell_type": "code",
   "execution_count": 32,
   "metadata": {},
   "outputs": [
    {
     "name": "stdout",
     "output_type": "stream",
     "text": [
      "2\n",
      "1 1\n",
      "Case #1: 2\n",
      "2 2\n",
      "Case #2: 4\n"
     ]
    }
   ],
   "source": [
    "T = int(input())\n",
    "\n",
    "for i in range(1,T+1):\n",
    "    a,b = map(int,input().split())\n",
    "    print(\"Case #\"+str(i)+\":\" , a+b)"
   ]
  },
  {
   "cell_type": "code",
   "execution_count": 38,
   "metadata": {},
   "outputs": [
    {
     "name": "stdout",
     "output_type": "stream",
     "text": [
      "2\n",
      "1 1\n",
      "Case #1: 1 + 1 = 2\n",
      "2 3\n",
      "Case #2: 2 + 3 = 5\n"
     ]
    }
   ],
   "source": [
    "T = int(input())\n",
    "for i in range(T):\n",
    "    a, b = map(int, input().split())\n",
    "    c= a+b\n",
    "    print('Case #%d: %d + %d = %d' %(i+1, a, b, c))"
   ]
  },
  {
   "cell_type": "code",
   "execution_count": 54,
   "metadata": {},
   "outputs": [
    {
     "name": "stdout",
     "output_type": "stream",
     "text": [
      "2022-01-30\n"
     ]
    }
   ],
   "source": [
    "from datetime import datetime\n",
    "datetime.now()\n",
    "print(str(datetime.now())[:10])"
   ]
  },
  {
   "cell_type": "markdown",
   "metadata": {},
   "source": [
    "## 오븐시계\n",
    "#### 문제\n",
    "KOI 전자에서는 건강에 좋고 맛있는 훈제오리구이 요리를 간편하게 만드는 인공지능 오븐을 개발하려고 한다. 인공지능 오븐을 사용하는 방법은 적당한 양의 오리 훈제 재료를 인공지능 오븐에 넣으면 된다. 그러면 인공지능 오븐은 오븐구이가 끝나는 시간을 분 단위로 자동적으로 계산한다. \n",
    "\n",
    "또한, KOI 전자의 인공지능 오븐 앞면에는 사용자에게 훈제오리구이 요리가 끝나는 시각을 알려 주는 디지털 시계가 있다. \n",
    "\n",
    "훈제오리구이를 시작하는 시각과 오븐구이를 하는 데 필요한 시간이 분단위로 주어졌을 때, 오븐구이가 끝나는 시각을 계산하는 프로그램을 작성하시오."
   ]
  },
  {
   "cell_type": "code",
   "execution_count": 56,
   "metadata": {},
   "outputs": [
    {
     "name": "stdout",
     "output_type": "stream",
     "text": [
      "17 40\n",
      "80\n",
      "19 0\n"
     ]
    }
   ],
   "source": [
    "H, M = map(int,input().split())\n",
    "time=int(input())\n",
    "\n",
    "H += time //60\n",
    "M += time % 60\n",
    "\n",
    "if M >= 60:\n",
    "    H += 1\n",
    "    M -= 60\n",
    "    \n",
    "if H >= 24:\n",
    "    H -=24\n",
    "\n",
    "print(H,M)"
   ]
  },
  {
   "cell_type": "markdown",
   "metadata": {},
   "source": [
    "## 인공지능 시계\n",
    "#### 문제\n",
    "KOI 전자에서는 건강에 좋고 맛있는 훈제오리구이 요리를 간편하게 만드는 인공지능 오븐을 개발하려고 한다. 인공지능 오븐을 사용하는 방법은 적당한 양의 오리 훈제 재료를 인공지능 오븐에 넣으면 된다. 그러면 인공지능 오븐은 오븐구이가 끝나는 시간을 초 단위로 자동적으로 계산한다. \n",
    "\n",
    "또한, KOI 전자의 인공지능 오븐 앞면에는 사용자에게 훈제오리구이 요리가 끝나는 시각을 알려 주는 디지털 시계가 있다.  \n",
    "\n",
    "훈제오리구이를 시작하는 시각과 오븐구이를 하는 데 필요한 시간이 초 단위로 주어졌을 때, 오븐구이가 끝나는 시각을 계산하는 프로그램을 작성하시오."
   ]
  },
  {
   "cell_type": "code",
   "execution_count": 65,
   "metadata": {},
   "outputs": [
    {
     "name": "stdout",
     "output_type": "stream",
     "text": [
      "17 40 45\n",
      "6015\n",
      "19 21 0\n"
     ]
    }
   ],
   "source": [
    "H,M,S= map(int,input().split())\n",
    "time=int(input())\n",
    "\n",
    "S+=time%60\n",
    "time=time//60\n",
    "\n",
    "if S>=60:\n",
    "    S-=60\n",
    "    M+=1    \n",
    "\n",
    "M+=time % 60\n",
    "time=time//60\n",
    "if M >= 60:\n",
    "    H+=1\n",
    "    M-=60\n",
    "    \n",
    "H+=time%24\n",
    "if H>=24:\n",
    "    H-=24\n",
    "    \n",
    "print(H,M,S)"
   ]
  },
  {
   "cell_type": "markdown",
   "metadata": {},
   "source": [
    "## 저작권\n",
    "#### 문제\n",
    "창영이는 노래 여러 개를 이어서 부르는 가수이다. 유명한 노래의 비슷한 멜로디를 이어서 부르면서 언제 곡이 넘어갔는지 모르게 만드는 것이 창영이 노래의 특징이다. 이런 노래로 상업적으로 엄청난 성공을 거둔 창영이에게 큰 시련이 찾아왔다. 그것은 바로 저작권이었다.\n",
    "\n",
    "창영이의 노래에 포함되어 있는 멜로디는 모두 저작권이 다른 사람에게 있는 노래이다. 따라서, 이 음악으로 상업적인 활동을 했기 때문에, 저작권 협회에 저작권료를 내야한다.\n",
    "\n",
    "창영이는 자신의 앨범에 포함되어있는 저작권이 있는 멜로디의 평균값을 구해보기로 했다. 이 값은 아래와 같이 구할 수 있다.\n",
    "\n",
    "(창영이 앨범에 수록된 곡에 포함되어 있는 저작권이 있는 멜로디의 개수) / (앨범에 수록된 곡의 개수)\n",
    "\n",
    "이때, 평균값은 항상 올림을 해서 정수로 만들어야 한다. 예를 들어, 창영이의 1집 앨범 \"영창에서 영원히 영창피아노를 친다\"에 총 38개 곡이 수록되어 있고, 이 앨범에 저작권이 있는 멜로디가 894개가 있다면, 평균값은 23.53이 되고 올림해서 24가 된다.\n",
    "\n",
    "매니저 강산이는 얼마나 많은 사람에게 저작권료를 주어야 하는지 궁금해졌다. 강산이가 알고 있는 정보는 앨범에 수록되어 있는 곡의 개수와 위에서 구한 평균값이다. 이때, 적어도 몇 곡이 저작권이 있는 멜로디인지 구하는 프로그램을 작성하시오."
   ]
  },
  {
   "cell_type": "code",
   "execution_count": 72,
   "metadata": {},
   "outputs": [
    {
     "name": "stdout",
     "output_type": "stream",
     "text": [
      "38 24\n",
      "875\n"
     ]
    }
   ],
   "source": [
    "A, I= map(int,input().split())\n",
    "print(A*(I-1)+1)"
   ]
  },
  {
   "cell_type": "markdown",
   "metadata": {},
   "source": [
    "## 화성수학\n",
    "#### 문제\n",
    "겨울 방학에 달에 다녀온 상근이는 여름 방학 때는 화성에 갔다 올 예정이다. (3996번) 화성에서는 지구와는 조금 다른 연산자 @, %, #을 사용한다. @는 3을 곱하고, %는 5를 더하며, #는 7을 빼는 연산자이다. 따라서, 화성에서는 수학 식의 가장 앞에 수가 하나 있고, 그 다음에는 연산자가 있다."
   ]
  },
  {
   "cell_type": "code",
   "execution_count": 80,
   "metadata": {
    "scrolled": true
   },
   "outputs": [
    {
     "name": "stdout",
     "output_type": "stream",
     "text": [
      "3\n",
      "3 @ %\n",
      "14.00\n",
      "10.4 # % @\n",
      "25.20\n",
      "8 #\n",
      "1.00\n"
     ]
    }
   ],
   "source": [
    "t = int(input())\n",
    "\n",
    "for _ in range(t):\n",
    "    a = list(input().split())\n",
    "    num = float(a.pop(0))\n",
    "    for i in range(len(a)):\n",
    "        if a[i] == '@':\n",
    "            num *= 3\n",
    "        elif a[i] == '%':\n",
    "            num += 5\n",
    "        elif a[i] == '#':\n",
    "            num -= 7\n",
    "    \n",
    "    print(\"%0.2f\" % num)"
   ]
  },
  {
   "cell_type": "code",
   "execution_count": 98,
   "metadata": {},
   "outputs": [
    {
     "name": "stdout",
     "output_type": "stream",
     "text": [
      "2\n",
      "3 abc\n",
      "aaabbbccc\n",
      "5 /htp\n",
      "/////hhhhhtttttppppp\n"
     ]
    }
   ],
   "source": [
    "t= int(input())\n",
    "\n",
    "for _ in range(t):\n",
    "    r,s = input().split()\n",
    "    for i in s:\n",
    "        print(int(r)*i, end=\"\")\n",
    "    print()"
   ]
  },
  {
   "cell_type": "code",
   "execution_count": 99,
   "metadata": {},
   "outputs": [
    {
     "name": "stdout",
     "output_type": "stream",
     "text": [
      "1000\n",
      "*\n",
      "100\n",
      "100000\n"
     ]
    }
   ],
   "source": [
    "A=int(input())\n",
    "cal=input()\n",
    "B=int(input())\n",
    "\n",
    "if cal==\"*\":\n",
    "    print(A*B)\n",
    "elif cal==\"+\":\n",
    "    print(A+B) "
   ]
  },
  {
   "cell_type": "code",
   "execution_count": 105,
   "metadata": {},
   "outputs": [
    {
     "name": "stdout",
     "output_type": "stream",
     "text": [
      "100\n",
      "A\n"
     ]
    }
   ],
   "source": [
    "test= int(input())\n",
    "if (test>= 90 and test<=100):\n",
    "    print(\"A\")\n",
    "elif (test>=80 and test<=89):\n",
    "    print(\"B\")\n",
    "elif (test>=70 and test<=79):\n",
    "    print(\"C\")\n",
    "elif (test>=60 and test<=69):\n",
    "    print(\"D\")\n",
    "else: \n",
    "    print(\"F\")"
   ]
  },
  {
   "cell_type": "markdown",
   "metadata": {},
   "source": [
    "## 세 정수\n",
    "#### 문제\n",
    "세 정수 A, B, C가 주어진다. 이때, 두 번째로 큰 정수를 출력하는 프로그램을 작성하시오. "
   ]
  },
  {
   "cell_type": "code",
   "execution_count": 113,
   "metadata": {},
   "outputs": [
    {
     "name": "stdout",
     "output_type": "stream",
     "text": [
      "20 30 10\n",
      "20\n"
     ]
    }
   ],
   "source": [
    "num= list(map(int,input().split()))\n",
    "num=sorted(num)\n",
    "# num.sort()\n",
    "print(num[1])"
   ]
  },
  {
   "cell_type": "markdown",
   "metadata": {},
   "source": [
    "## 소인수분해\n",
    "#### 문제\n",
    "정수 N이 주어졌을 때, 소인수분해하는 프로그램을 작성하시오."
   ]
  },
  {
   "cell_type": "code",
   "execution_count": 3,
   "metadata": {},
   "outputs": [
    {
     "name": "stdout",
     "output_type": "stream",
     "text": [
      "8\n",
      "2\n",
      "2\n",
      "2\n"
     ]
    }
   ],
   "source": [
    "N = int(input()) \n",
    "d = 2 \n",
    "while N!=1: # N과m을 나눴을때 몫이 1이 되면 멈춤. \n",
    "    if N%d==0: \n",
    "        print(d) \n",
    "        N = N//d \n",
    "    else: \n",
    "        d += 1"
   ]
  },
  {
   "cell_type": "markdown",
   "metadata": {},
   "source": [
    "## 수들의 합\n",
    "#### 문제\n",
    "서로 다른 N개의 자연수의 합이 S라 한다. S를 알 때, 자연수 N의 최댓값은 얼마일까?"
   ]
  },
  {
   "cell_type": "code",
   "execution_count": 6,
   "metadata": {},
   "outputs": [
    {
     "name": "stdout",
     "output_type": "stream",
     "text": [
      "200\n",
      "19\n"
     ]
    }
   ],
   "source": [
    "s=int(input())\n",
    "n=1\n",
    "while n*(n+1)/2 <= s:\n",
    "    n+=1\n",
    "print(n-1)"
   ]
  },
  {
   "cell_type": "code",
   "execution_count": null,
   "metadata": {},
   "outputs": [],
   "source": []
  }
 ],
 "metadata": {
  "kernelspec": {
   "display_name": "Python 3 (ipykernel)",
   "language": "python",
   "name": "python3"
  },
  "language_info": {
   "codemirror_mode": {
    "name": "ipython",
    "version": 3
   },
   "file_extension": ".py",
   "mimetype": "text/x-python",
   "name": "python",
   "nbconvert_exporter": "python",
   "pygments_lexer": "ipython3",
   "version": "3.7.11"
  }
 },
 "nbformat": 4,
 "nbformat_minor": 4
}
